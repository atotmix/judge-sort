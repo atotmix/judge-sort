{
 "cells": [
  {
   "cell_type": "markdown",
   "metadata": {},
   "source": [
    "This python notebook serves as a development area where things can be put into a known state / tested before putting them into the final `judge-sort.py` file\n",
    "\n",
    "To start with we will get the file ready "
   ]
  },
  {
   "cell_type": "code",
   "execution_count": null,
   "metadata": {},
   "outputs": [],
   "source": [
    "import pandas as pd\n",
    "judges = pd.DataFrame\n",
    "\n",
    "try:\n",
    "    judges = pd.read_csv(\"data-in/judges.csv\")\n",
    "except:\n",
    "    raise FileNotFoundError(\"Failed to read CSV file. Ensure the judges.csv file exists\")\n",
    "\n",
    "expected_headers = ['Email', 'CC email (assistant or other colleague)', 'Mobile phone (Used only for comms at an event. No marketing.)', 'First name', \n",
    "                    'Last name', 'Job title', 'Company name', 'City', 'Preferred Pronouns', 'Ethnic Group', \n",
    "                    'If you are neurodivergent, please check this box so that we can get in touch with you to discuss any specific requirements you may have to ensure your experience with us is as productive and enjoyable as possible', \n",
    "                    'Are you part of an Agency Holding Company?', \"If you selected 'Other', which one?\\xa0\", 'Company type', 'If you selected \"Other\", which one?', \n",
    "                    'Job Role/Department', 'Seniority Level', 'Years of Experience', 'Brand # 1', 'Brand # 2', 'Brand # 3', 'First choice for judging', 'Second choice for judging', \n",
    "                    '<p>If judging in-person on 5th September, are you able to join us for the drinks reception afterwards?</p>\\n<p>(6pm-8pm)</p>',\n",
    "                    'Have you judged for the Effies in the past?', 'If you’re new to Effie judging or would like a refresher we’re holding two online training sessions.\\xa0 Please choose the session you would like to join.', \n",
    "                    'Dietary Restrictions/Allergies (for in-person judging)', 'Are you interested in any of the following?', \n",
    "                    'Conversion Date', 'Conversion Page', 'Conversion Title', 'Contact first name', 'Contact last name', 'Contact email', 'Contact ID']\n",
    "\n",
    "#Ensure that all headers are present - making sure that the correct file is being loaded\n",
    "if judges.columns.to_list() != expected_headers:\n",
    "    print(\"This dataset does not contain the required headers.\\nPlease ensure that you have placed the correct file in data-in/judges.csv\")  \n",
    "\n",
    "    missing_headers = [header for header in expected_headers if header not in judges.columns.to_list()]\n",
    "    extra_headers = [header for header in judges.columns.to_list() if header not in expected_headers]\n",
    "    \n",
    "    error_message = \"Header validation failed:\\n\"\n",
    "    if missing_headers:\n",
    "        error_message += f\"  - Missing headers: {missing_headers}\\n\"\n",
    "    if extra_headers:\n",
    "        error_message += f\"  - Unexpected headers: {extra_headers}\\n\"\n",
    "    raise ValueError(error_message)\n",
    "\n",
    "#Drop any duplicates if present - likely not but just in case as this data is collected by hand\n",
    "judges.drop_duplicates()\n",
    "\n",
    "#Ensure every row has the data that we're going to be using. \n",
    "required_columns = ['Email', 'First name', 'Last name', 'Job title', 'Company name', 'Preferred Pronouns', 'Ethnic Group']\n",
    "\n",
    "missing_data = judges[required_columns].isnull()\n",
    "rows_with_missing_data = missing_data.any(axis=1)\n",
    "\n",
    "\n",
    "if rows_with_missing_data.any():\n",
    "    # Get rows with missing data and their indices\n",
    "    problematic_rows = judges[rows_with_missing_data]\n",
    "    raise ValueError(\n",
    "        f\"Validation failed! The following rows have missing data in required columns:\\n\"\n",
    "        f\"{problematic_rows}\"\n",
    "    )\n"
   ]
  },
  {
   "cell_type": "code",
   "execution_count": null,
   "metadata": {},
   "outputs": [],
   "source": [
    "judges.iloc[3]"
   ]
  }
 ],
 "metadata": {
  "kernelspec": {
   "display_name": ".venv",
   "language": "python",
   "name": "python3"
  },
  "language_info": {
   "codemirror_mode": {
    "name": "ipython",
    "version": 3
   },
   "file_extension": ".py",
   "mimetype": "text/x-python",
   "name": "python",
   "nbconvert_exporter": "python",
   "pygments_lexer": "ipython3",
   "version": "3.12.4"
  }
 },
 "nbformat": 4,
 "nbformat_minor": 2
}
