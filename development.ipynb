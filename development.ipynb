{
 "cells": [
  {
   "cell_type": "markdown",
   "metadata": {},
   "source": [
    "This python notebook serves as a development area where things can be put into a known state / tested before putting them into the final `judge-sort.py` file\n",
    "\n",
    "To start with we will get the file ready "
   ]
  },
  {
   "cell_type": "code",
   "execution_count": null,
   "metadata": {},
   "outputs": [],
   "source": [
    "import pandas as pd\n",
    "from collections import defaultdict\n",
    "import numpy as np"
   ]
  },
  {
   "cell_type": "code",
   "execution_count": null,
   "metadata": {},
   "outputs": [],
   "source": [
    "judges = pd.DataFrame\n",
    "\n",
    "try:\n",
    "    judges = pd.read_csv(\"data-in/judges.csv\")\n",
    "except:\n",
    "    raise FileNotFoundError(\"Failed to read CSV file. Ensure the judges.csv file exists\")\n",
    "\n",
    "expected_headers = ['Email', 'CC email (assistant or other colleague)', 'Mobile phone (Used only for comms at an event. No marketing.)', 'First name', \n",
    "                    'Last name', 'Job title', 'Company name', 'City', 'Preferred Pronouns', 'Ethnic Group', \n",
    "                    'If you are neurodivergent, please check this box so that we can get in touch with you to discuss any specific requirements you may have to ensure your experience with us is as productive and enjoyable as possible', \n",
    "                    'Are you part of an Agency Holding Company?', \"If you selected 'Other', which one?\\xa0\", 'Company type', 'If you selected \"Other\", which one?', \n",
    "                    'Job Role/Department', 'Seniority Level', 'Years of Experience', 'Brand # 1', 'Brand # 2', 'Brand # 3', 'First choice for judging', 'Second choice for judging', \n",
    "                    '<p>If judging in-person on 5th September, are you able to join us for the drinks reception afterwards?</p>\\n<p>(6pm-8pm)</p>',\n",
    "                    'Have you judged for the Effies in the past?', 'If you’re new to Effie judging or would like a refresher we’re holding two online training sessions.\\xa0 Please choose the session you would like to join.', \n",
    "                    'Dietary Restrictions/Allergies (for in-person judging)', 'Are you interested in any of the following?', \n",
    "                    'Conversion Date', 'Conversion Page', 'Conversion Title', 'Contact first name', 'Contact last name', 'Contact email', 'Contact ID']\n",
    "\n",
    "#Ensure that all headers are present - making sure that the correct file is being loaded\n",
    "if judges.columns.to_list() != expected_headers:\n",
    "    print(\"This dataset does not contain the required headers.\\nPlease ensure that you have placed the correct file in data-in/judges.csv\")  \n",
    "\n",
    "    missing_headers = [header for header in expected_headers if header not in judges.columns.to_list()]\n",
    "    extra_headers = [header for header in judges.columns.to_list() if header not in expected_headers]\n",
    "    \n",
    "    error_message = \"Header validation failed:\\n\"\n",
    "    if missing_headers:\n",
    "        error_message += f\"  - Missing headers: {missing_headers}\\n\"\n",
    "    if extra_headers:\n",
    "        error_message += f\"  - Unexpected headers: {extra_headers}\\n\"\n",
    "    raise ValueError(error_message)\n",
    "\n",
    "#Drop any duplicates if present - likely not but just in case as this data is collected by hand\n",
    "judges.drop_duplicates()\n",
    "\n",
    "#Ensure every row has the data that we're going to be using. \n",
    "required_columns = ['Email', 'First name', 'Last name', 'Job title', 'Company name', 'Preferred Pronouns', 'Ethnic Group']\n",
    "\n",
    "missing_data = judges[required_columns].isnull()\n",
    "rows_with_missing_data = missing_data.any(axis=1)\n",
    "\n",
    "\n",
    "if rows_with_missing_data.any():\n",
    "    # Get rows with missing data and their indices\n",
    "    problematic_rows = judges[rows_with_missing_data]\n",
    "    raise ValueError(\n",
    "        f\"Validation failed! The following rows have missing data in required columns:\\n\"\n",
    "        f\"{problematic_rows}\"\n",
    "    )\n"
   ]
  },
  {
   "cell_type": "markdown",
   "metadata": {},
   "source": [
    "We will be testing our diversity evaluation functionality here. iterating on each version"
   ]
  },
  {
   "cell_type": "code",
   "execution_count": null,
   "metadata": {},
   "outputs": [],
   "source": [
    "group_size = 11 \n",
    "sample_group = judges.sample(n=group_size).reset_index(drop=True)\n",
    "#Re-Running this snippet will get us a new random group\n",
    " "
   ]
  },
  {
   "cell_type": "code",
   "execution_count": null,
   "metadata": {},
   "outputs": [],
   "source": [
    "diversity_columns = ['Preferred Pronouns', 'Ethnic Group', 'Years of Experience']\n",
    "\n",
    "def evaluate_group(df_in, diversity_columns):\n",
    "    \"\"\"\n",
    "    This function evaluates the levels of diversity in a group\n",
    "    by outputting the number of each person in a certain group\n",
    "\n",
    "\n",
    "    \"\"\"\n",
    "    for column in diversity_columns:\n",
    "        print(f\"----{column}----\")\n",
    "        for group_name, group_df in df_in.groupby(column):\n",
    "            # Calculate frequency distribution\n",
    "            value_counts = group_df[column].value_counts()\n",
    "            # Check if any single group exceeds the threshold\n",
    "            max_proportion = value_counts.max()\n",
    "            print(f\"{group_name} : {max_proportion}\")\n",
    "    "
   ]
  },
  {
   "cell_type": "code",
   "execution_count": null,
   "metadata": {},
   "outputs": [],
   "source": [
    "evaluate_group(judges,diversity_columns)\n"
   ]
  },
  {
   "cell_type": "markdown",
   "metadata": {},
   "source": [
    "First, we want to test for issues we may face with our dataset. Grouping our dataset based off race / gender highlights a small issue we may face when trying to create diverse groups - there are much larger groups than others. As well as this, there are plenty of groups where only 1 person is present - e.g. if someone works for a smaller company\n",
    "\n",
    "To account for this we will need to create an 'other' category as stratified grouping only works for groups larger than 1. "
   ]
  },
  {
   "cell_type": "code",
   "execution_count": null,
   "metadata": {},
   "outputs": [],
   "source": [
    "group_counts = judges.groupby(diversity_columns).size()\n",
    "print(group_counts[group_counts == 1])  # Identify rare combinations\n"
   ]
  },
  {
   "cell_type": "code",
   "execution_count": null,
   "metadata": {},
   "outputs": [],
   "source": [
    "num_groups = 11"
   ]
  },
  {
   "cell_type": "code",
   "execution_count": null,
   "metadata": {},
   "outputs": [],
   "source": []
  },
  {
   "cell_type": "code",
   "execution_count": null,
   "metadata": {},
   "outputs": [],
   "source": [
    "\n",
    "def distribute_teams(df, group_cols, n_groups):\n",
    "    \"\"\"\n",
    "    Distributes individuals in a DataFrame into groups by first evenly distributing underrepresented groups\n",
    "    and then using a round-robin approach for larger groups.\n",
    "\n",
    "    Args:\n",
    "        df (pd.DataFrame): The DataFrame containing individuals with their attributes.\n",
    "        group_cols (list): Columns that define groups.\n",
    "        n_groups (int): The number of groups to distribute individuals into.\n",
    "\n",
    "    Returns:\n",
    "        list: A list of DataFrames, each representing a group.\n",
    "    \"\"\"\n",
    "    # Identify groups\n",
    "    df['group'] = df[group_cols].apply(lambda row: tuple(row), axis=1)\n",
    "    \n",
    "    # Identify underrepresented groups (only one individual in the group)\n",
    "    group_counts = df['group'].value_counts()\n",
    "    underrepresented_groups = group_counts[group_counts == 1].index\n",
    "    \n",
    "    #print(underrepresented_groups)\n",
    "    # Initialize groups\n",
    "    groups = [pd.DataFrame() for _ in range(n_groups)]\n",
    "    \n",
    "    # Distribute underrepresented groups first\n",
    "    for idx, group in enumerate(underrepresented_groups):\n",
    "        person = df[df['group'] == group]\n",
    "        groups[idx % n_groups] = pd.concat([groups[idx % n_groups], person])\n",
    "        df = df[df['group'] != group]  # Remove distributed individuals\n",
    "    \n",
    "    # Distribute the rest of the dataset\n",
    "    group_counts = df['group'].value_counts()\n",
    "    group_buckets = defaultdict(list)\n",
    "    for group, count in group_counts.items():\n",
    "        group_buckets[group] = list(df[df['group'] == group].index)\n",
    "    \n",
    "    # Shuffle indices for randomness\n",
    "    all_indices = list(df.index)\n",
    "    np.random.shuffle(all_indices)\n",
    "    \n",
    "    # Distribute remaining individuals\n",
    "    for idx, person_idx in enumerate(all_indices):\n",
    "        #Ensure that \n",
    "        groups[idx % n_groups] = pd.concat([groups[idx % n_groups], df.loc[[person_idx]]])\n",
    "    \n",
    "    # Drop the helper 'group' column before returning\n",
    "    for i in range(n_groups):\n",
    "        groups[i] = groups[i].drop(columns=['group'])\n",
    "\n",
    "    return groups\n"
   ]
  },
  {
   "cell_type": "code",
   "execution_count": null,
   "metadata": {},
   "outputs": [],
   "source": [
    "\n",
    "samples = distribute_teams(judges, diversity_columns, num_groups)\n",
    "for i, sample in enumerate(samples):\n",
    "    print(f\"\\nSample {i + 1} | sample size: {len(sample)}:\")\n",
    "    evaluate_group(sample,diversity_columns)"
   ]
  }
 ],
 "metadata": {
  "kernelspec": {
   "display_name": ".venv",
   "language": "python",
   "name": "python3"
  },
  "language_info": {
   "codemirror_mode": {
    "name": "ipython",
    "version": 3
   },
   "file_extension": ".py",
   "mimetype": "text/x-python",
   "name": "python",
   "nbconvert_exporter": "python",
   "pygments_lexer": "ipython3",
   "version": "3.12.4"
  }
 },
 "nbformat": 4,
 "nbformat_minor": 2
}
